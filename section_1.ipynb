{
 "cells": [
  {
   "cell_type": "code",
   "execution_count": null,
   "metadata": {
    "colab": {
     "base_uri": "https://localhost:8080/"
    },
    "id": "Vs3apfBz5FBI",
    "outputId": "6a59e870-6027-478e-8148-e691fb0beb22"
   },
   "outputs": [
    {
     "name": "stdout",
     "output_type": "stream",
     "text": [
      "[Errno 2] No such file or directory: 'sample_data'\n",
      "/content/sample_data\n"
     ]
    }
   ],
   "source": [
    "cd sample_data"
   ]
  },
  {
   "cell_type": "code",
   "execution_count": null,
   "metadata": {
    "id": "3i4wxEF55PO3"
   },
   "outputs": [],
   "source": [
    "import pandas as pd\n",
    "import numpy as np\n",
    "import seaborn as sns\n",
    "import matplotlib.pyplot as plt\n",
    "%matplotlib inline\n",
    "import warnings\n",
    "# warnings.filterwarnings(“ignore”)"
   ]
  },
  {
   "cell_type": "code",
   "execution_count": null,
   "metadata": {
    "id": "bNih-tMP5gY3"
   },
   "outputs": [],
   "source": [
    "data1 = pd.read_csv(\"applicant.csv\")\n",
    "data2 = pd.read_csv(\"loan.csv\")"
   ]
  },
  {
   "cell_type": "code",
   "execution_count": null,
   "metadata": {
    "colab": {
     "base_uri": "https://localhost:8080/"
    },
    "id": "qUxutbl45jPX",
    "outputId": "c3704d45-5f1b-44da-ce4c-1fa7bc0f69a5"
   },
   "outputs": [
    {
     "data": {
      "text/plain": [
       "applicant_id                                               int64\n",
       "Primary_applicant_age_in_years                             int64\n",
       "Gender                                                    object\n",
       "Marital_status                                            object\n",
       "Number_of_dependents                                       int64\n",
       "Housing                                                   object\n",
       "Years_at_current_residence                                 int64\n",
       "Employment_status                                         object\n",
       "Has_been_employed_for_at_least                            object\n",
       "Has_been_employed_for_at_most                             object\n",
       "Telephone                                                 object\n",
       "Foreign_worker                                             int64\n",
       "Savings_account_balance                                   object\n",
       "Balance_in_existing_bank_account_lower_limit_of_bucket    object\n",
       "Balance_in_existing_bank_account_upper_limit_of_bucket    object\n",
       "dtype: object"
      ]
     },
     "execution_count": 13,
     "metadata": {},
     "output_type": "execute_result"
    }
   ],
   "source": [
    "data1.dtypes"
   ]
  },
  {
   "cell_type": "code",
   "execution_count": null,
   "metadata": {
    "colab": {
     "base_uri": "https://localhost:8080/"
    },
    "id": "jOwTLSgG5lwn",
    "outputId": "0f1c58b8-6fef-4ad0-8c0b-586caa5683a3"
   },
   "outputs": [
    {
     "data": {
      "text/plain": [
       "loan_application_id                            object\n",
       "applicant_id                                    int64\n",
       "Months_loan_taken_for                           int64\n",
       "Purpose                                        object\n",
       "Principal_loan_amount                           int64\n",
       "EMI_rate_in_percentage_of_disposable_income     int64\n",
       "Property                                       object\n",
       "Has_coapplicant                                 int64\n",
       "Has_guarantor                                   int64\n",
       "Other_EMI_plans                                object\n",
       "Number_of_existing_loans_at_this_bank           int64\n",
       "Loan_history                                   object\n",
       "high_risk_applicant                             int64\n",
       "dtype: object"
      ]
     },
     "execution_count": 14,
     "metadata": {},
     "output_type": "execute_result"
    }
   ],
   "source": [
    "data2.dtypes"
   ]
  },
  {
   "cell_type": "code",
   "execution_count": null,
   "metadata": {
    "id": "wlguSVsT5rnH"
   },
   "outputs": [],
   "source": [
    "data = pd.merge(data1, data2, on=\"applicant_id\", how=\"right\")"
   ]
  },
  {
   "cell_type": "code",
   "execution_count": null,
   "metadata": {
    "colab": {
     "base_uri": "https://localhost:8080/",
     "height": 508
    },
    "id": "1SbWsKT-6Zxm",
    "outputId": "69246013-3a56-4391-f32a-801613221ec4"
   },
   "outputs": [
    {
     "data": {
      "text/html": [
       "\n",
       "  <div id=\"df-31022a47-1a7f-4f47-aec9-e123af91386e\">\n",
       "    <div class=\"colab-df-container\">\n",
       "      <div>\n",
       "<style scoped>\n",
       "    .dataframe tbody tr th:only-of-type {\n",
       "        vertical-align: middle;\n",
       "    }\n",
       "\n",
       "    .dataframe tbody tr th {\n",
       "        vertical-align: top;\n",
       "    }\n",
       "\n",
       "    .dataframe thead th {\n",
       "        text-align: right;\n",
       "    }\n",
       "</style>\n",
       "<table border=\"1\" class=\"dataframe\">\n",
       "  <thead>\n",
       "    <tr style=\"text-align: right;\">\n",
       "      <th></th>\n",
       "      <th>applicant_id</th>\n",
       "      <th>Primary_applicant_age_in_years</th>\n",
       "      <th>Gender</th>\n",
       "      <th>Marital_status</th>\n",
       "      <th>Number_of_dependents</th>\n",
       "      <th>Housing</th>\n",
       "      <th>Years_at_current_residence</th>\n",
       "      <th>Employment_status</th>\n",
       "      <th>Has_been_employed_for_at_least</th>\n",
       "      <th>Has_been_employed_for_at_most</th>\n",
       "      <th>...</th>\n",
       "      <th>Purpose</th>\n",
       "      <th>Principal_loan_amount</th>\n",
       "      <th>EMI_rate_in_percentage_of_disposable_income</th>\n",
       "      <th>Property</th>\n",
       "      <th>Has_coapplicant</th>\n",
       "      <th>Has_guarantor</th>\n",
       "      <th>Other_EMI_plans</th>\n",
       "      <th>Number_of_existing_loans_at_this_bank</th>\n",
       "      <th>Loan_history</th>\n",
       "      <th>high_risk_applicant</th>\n",
       "    </tr>\n",
       "  </thead>\n",
       "  <tbody>\n",
       "    <tr>\n",
       "      <th>0</th>\n",
       "      <td>1469590</td>\n",
       "      <td>67</td>\n",
       "      <td>male</td>\n",
       "      <td>single</td>\n",
       "      <td>1</td>\n",
       "      <td>own</td>\n",
       "      <td>4</td>\n",
       "      <td>skilled employee / official</td>\n",
       "      <td>7 years</td>\n",
       "      <td>NaN</td>\n",
       "      <td>...</td>\n",
       "      <td>electronic equipment</td>\n",
       "      <td>1169000</td>\n",
       "      <td>4</td>\n",
       "      <td>real estate</td>\n",
       "      <td>0</td>\n",
       "      <td>0</td>\n",
       "      <td>NaN</td>\n",
       "      <td>2</td>\n",
       "      <td>critical/pending loans at other banks</td>\n",
       "      <td>0</td>\n",
       "    </tr>\n",
       "    <tr>\n",
       "      <th>1</th>\n",
       "      <td>1203873</td>\n",
       "      <td>22</td>\n",
       "      <td>female</td>\n",
       "      <td>divorced/separated/married</td>\n",
       "      <td>1</td>\n",
       "      <td>own</td>\n",
       "      <td>2</td>\n",
       "      <td>skilled employee / official</td>\n",
       "      <td>1 year</td>\n",
       "      <td>4 years</td>\n",
       "      <td>...</td>\n",
       "      <td>electronic equipment</td>\n",
       "      <td>5951000</td>\n",
       "      <td>2</td>\n",
       "      <td>real estate</td>\n",
       "      <td>0</td>\n",
       "      <td>0</td>\n",
       "      <td>NaN</td>\n",
       "      <td>1</td>\n",
       "      <td>existing loans paid back duly till now</td>\n",
       "      <td>1</td>\n",
       "    </tr>\n",
       "    <tr>\n",
       "      <th>2</th>\n",
       "      <td>1432761</td>\n",
       "      <td>49</td>\n",
       "      <td>male</td>\n",
       "      <td>single</td>\n",
       "      <td>2</td>\n",
       "      <td>own</td>\n",
       "      <td>3</td>\n",
       "      <td>unskilled - resident</td>\n",
       "      <td>4 years</td>\n",
       "      <td>7 years</td>\n",
       "      <td>...</td>\n",
       "      <td>education</td>\n",
       "      <td>2096000</td>\n",
       "      <td>2</td>\n",
       "      <td>real estate</td>\n",
       "      <td>0</td>\n",
       "      <td>0</td>\n",
       "      <td>NaN</td>\n",
       "      <td>1</td>\n",
       "      <td>critical/pending loans at other banks</td>\n",
       "      <td>0</td>\n",
       "    </tr>\n",
       "    <tr>\n",
       "      <th>3</th>\n",
       "      <td>1207582</td>\n",
       "      <td>45</td>\n",
       "      <td>male</td>\n",
       "      <td>single</td>\n",
       "      <td>2</td>\n",
       "      <td>for free</td>\n",
       "      <td>4</td>\n",
       "      <td>skilled employee / official</td>\n",
       "      <td>4 years</td>\n",
       "      <td>7 years</td>\n",
       "      <td>...</td>\n",
       "      <td>FF&amp;E</td>\n",
       "      <td>7882000</td>\n",
       "      <td>2</td>\n",
       "      <td>building society savings agreement/life insurance</td>\n",
       "      <td>0</td>\n",
       "      <td>1</td>\n",
       "      <td>NaN</td>\n",
       "      <td>1</td>\n",
       "      <td>existing loans paid back duly till now</td>\n",
       "      <td>0</td>\n",
       "    </tr>\n",
       "    <tr>\n",
       "      <th>4</th>\n",
       "      <td>1674436</td>\n",
       "      <td>53</td>\n",
       "      <td>male</td>\n",
       "      <td>single</td>\n",
       "      <td>2</td>\n",
       "      <td>for free</td>\n",
       "      <td>4</td>\n",
       "      <td>skilled employee / official</td>\n",
       "      <td>1 year</td>\n",
       "      <td>4 years</td>\n",
       "      <td>...</td>\n",
       "      <td>new vehicle</td>\n",
       "      <td>4870000</td>\n",
       "      <td>3</td>\n",
       "      <td>NaN</td>\n",
       "      <td>0</td>\n",
       "      <td>0</td>\n",
       "      <td>NaN</td>\n",
       "      <td>2</td>\n",
       "      <td>delay in paying off loans in the past</td>\n",
       "      <td>1</td>\n",
       "    </tr>\n",
       "  </tbody>\n",
       "</table>\n",
       "<p>5 rows × 27 columns</p>\n",
       "</div>\n",
       "      <button class=\"colab-df-convert\" onclick=\"convertToInteractive('df-31022a47-1a7f-4f47-aec9-e123af91386e')\"\n",
       "              title=\"Convert this dataframe to an interactive table.\"\n",
       "              style=\"display:none;\">\n",
       "        \n",
       "  <svg xmlns=\"http://www.w3.org/2000/svg\" height=\"24px\"viewBox=\"0 0 24 24\"\n",
       "       width=\"24px\">\n",
       "    <path d=\"M0 0h24v24H0V0z\" fill=\"none\"/>\n",
       "    <path d=\"M18.56 5.44l.94 2.06.94-2.06 2.06-.94-2.06-.94-.94-2.06-.94 2.06-2.06.94zm-11 1L8.5 8.5l.94-2.06 2.06-.94-2.06-.94L8.5 2.5l-.94 2.06-2.06.94zm10 10l.94 2.06.94-2.06 2.06-.94-2.06-.94-.94-2.06-.94 2.06-2.06.94z\"/><path d=\"M17.41 7.96l-1.37-1.37c-.4-.4-.92-.59-1.43-.59-.52 0-1.04.2-1.43.59L10.3 9.45l-7.72 7.72c-.78.78-.78 2.05 0 2.83L4 21.41c.39.39.9.59 1.41.59.51 0 1.02-.2 1.41-.59l7.78-7.78 2.81-2.81c.8-.78.8-2.07 0-2.86zM5.41 20L4 18.59l7.72-7.72 1.47 1.35L5.41 20z\"/>\n",
       "  </svg>\n",
       "      </button>\n",
       "      \n",
       "  <style>\n",
       "    .colab-df-container {\n",
       "      display:flex;\n",
       "      flex-wrap:wrap;\n",
       "      gap: 12px;\n",
       "    }\n",
       "\n",
       "    .colab-df-convert {\n",
       "      background-color: #E8F0FE;\n",
       "      border: none;\n",
       "      border-radius: 50%;\n",
       "      cursor: pointer;\n",
       "      display: none;\n",
       "      fill: #1967D2;\n",
       "      height: 32px;\n",
       "      padding: 0 0 0 0;\n",
       "      width: 32px;\n",
       "    }\n",
       "\n",
       "    .colab-df-convert:hover {\n",
       "      background-color: #E2EBFA;\n",
       "      box-shadow: 0px 1px 2px rgba(60, 64, 67, 0.3), 0px 1px 3px 1px rgba(60, 64, 67, 0.15);\n",
       "      fill: #174EA6;\n",
       "    }\n",
       "\n",
       "    [theme=dark] .colab-df-convert {\n",
       "      background-color: #3B4455;\n",
       "      fill: #D2E3FC;\n",
       "    }\n",
       "\n",
       "    [theme=dark] .colab-df-convert:hover {\n",
       "      background-color: #434B5C;\n",
       "      box-shadow: 0px 1px 3px 1px rgba(0, 0, 0, 0.15);\n",
       "      filter: drop-shadow(0px 1px 2px rgba(0, 0, 0, 0.3));\n",
       "      fill: #FFFFFF;\n",
       "    }\n",
       "  </style>\n",
       "\n",
       "      <script>\n",
       "        const buttonEl =\n",
       "          document.querySelector('#df-31022a47-1a7f-4f47-aec9-e123af91386e button.colab-df-convert');\n",
       "        buttonEl.style.display =\n",
       "          google.colab.kernel.accessAllowed ? 'block' : 'none';\n",
       "\n",
       "        async function convertToInteractive(key) {\n",
       "          const element = document.querySelector('#df-31022a47-1a7f-4f47-aec9-e123af91386e');\n",
       "          const dataTable =\n",
       "            await google.colab.kernel.invokeFunction('convertToInteractive',\n",
       "                                                     [key], {});\n",
       "          if (!dataTable) return;\n",
       "\n",
       "          const docLinkHtml = 'Like what you see? Visit the ' +\n",
       "            '<a target=\"_blank\" href=https://colab.research.google.com/notebooks/data_table.ipynb>data table notebook</a>'\n",
       "            + ' to learn more about interactive tables.';\n",
       "          element.innerHTML = '';\n",
       "          dataTable['output_type'] = 'display_data';\n",
       "          await google.colab.output.renderOutput(dataTable, element);\n",
       "          const docLink = document.createElement('div');\n",
       "          docLink.innerHTML = docLinkHtml;\n",
       "          element.appendChild(docLink);\n",
       "        }\n",
       "      </script>\n",
       "    </div>\n",
       "  </div>\n",
       "  "
      ],
      "text/plain": [
       "   applicant_id  Primary_applicant_age_in_years  Gender  \\\n",
       "0       1469590                              67    male   \n",
       "1       1203873                              22  female   \n",
       "2       1432761                              49    male   \n",
       "3       1207582                              45    male   \n",
       "4       1674436                              53    male   \n",
       "\n",
       "               Marital_status  Number_of_dependents   Housing  \\\n",
       "0                      single                     1       own   \n",
       "1  divorced/separated/married                     1       own   \n",
       "2                      single                     2       own   \n",
       "3                      single                     2  for free   \n",
       "4                      single                     2  for free   \n",
       "\n",
       "   Years_at_current_residence            Employment_status  \\\n",
       "0                           4  skilled employee / official   \n",
       "1                           2  skilled employee / official   \n",
       "2                           3         unskilled - resident   \n",
       "3                           4  skilled employee / official   \n",
       "4                           4  skilled employee / official   \n",
       "\n",
       "  Has_been_employed_for_at_least Has_been_employed_for_at_most  ...  \\\n",
       "0                        7 years                           NaN  ...   \n",
       "1                         1 year                       4 years  ...   \n",
       "2                        4 years                       7 years  ...   \n",
       "3                        4 years                       7 years  ...   \n",
       "4                         1 year                       4 years  ...   \n",
       "\n",
       "                Purpose  Principal_loan_amount  \\\n",
       "0  electronic equipment                1169000   \n",
       "1  electronic equipment                5951000   \n",
       "2             education                2096000   \n",
       "3                  FF&E                7882000   \n",
       "4           new vehicle                4870000   \n",
       "\n",
       "  EMI_rate_in_percentage_of_disposable_income  \\\n",
       "0                                           4   \n",
       "1                                           2   \n",
       "2                                           2   \n",
       "3                                           2   \n",
       "4                                           3   \n",
       "\n",
       "                                            Property Has_coapplicant  \\\n",
       "0                                        real estate               0   \n",
       "1                                        real estate               0   \n",
       "2                                        real estate               0   \n",
       "3  building society savings agreement/life insurance               0   \n",
       "4                                                NaN               0   \n",
       "\n",
       "  Has_guarantor  Other_EMI_plans Number_of_existing_loans_at_this_bank  \\\n",
       "0             0              NaN                                     2   \n",
       "1             0              NaN                                     1   \n",
       "2             0              NaN                                     1   \n",
       "3             1              NaN                                     1   \n",
       "4             0              NaN                                     2   \n",
       "\n",
       "                             Loan_history  high_risk_applicant  \n",
       "0   critical/pending loans at other banks                    0  \n",
       "1  existing loans paid back duly till now                    1  \n",
       "2   critical/pending loans at other banks                    0  \n",
       "3  existing loans paid back duly till now                    0  \n",
       "4   delay in paying off loans in the past                    1  \n",
       "\n",
       "[5 rows x 27 columns]"
      ]
     },
     "execution_count": 16,
     "metadata": {},
     "output_type": "execute_result"
    }
   ],
   "source": [
    "data.head(5)"
   ]
  },
  {
   "cell_type": "code",
   "execution_count": null,
   "metadata": {
    "colab": {
     "base_uri": "https://localhost:8080/"
    },
    "id": "hPYyiSYd6ave",
    "outputId": "859847b7-e812-4d61-be0f-68e8ea51e0e9"
   },
   "outputs": [
    {
     "data": {
      "text/plain": [
       "(1000, 27)"
      ]
     },
     "execution_count": 17,
     "metadata": {},
     "output_type": "execute_result"
    }
   ],
   "source": [
    "data.shape"
   ]
  },
  {
   "cell_type": "code",
   "execution_count": null,
   "metadata": {
    "colab": {
     "base_uri": "https://localhost:8080/"
    },
    "id": "R_hj6yr76fhG",
    "outputId": "2fec06ad-7851-4e15-bd7d-f9b611e912b4"
   },
   "outputs": [
    {
     "name": "stdout",
     "output_type": "stream",
     "text": [
      "<class 'pandas.core.frame.DataFrame'>\n",
      "Int64Index: 1000 entries, 0 to 999\n",
      "Data columns (total 27 columns):\n",
      " #   Column                                                  Non-Null Count  Dtype \n",
      "---  ------                                                  --------------  ----- \n",
      " 0   applicant_id                                            1000 non-null   int64 \n",
      " 1   Primary_applicant_age_in_years                          1000 non-null   int64 \n",
      " 2   Gender                                                  1000 non-null   object\n",
      " 3   Marital_status                                          1000 non-null   object\n",
      " 4   Number_of_dependents                                    1000 non-null   int64 \n",
      " 5   Housing                                                 1000 non-null   object\n",
      " 6   Years_at_current_residence                              1000 non-null   int64 \n",
      " 7   Employment_status                                       1000 non-null   object\n",
      " 8   Has_been_employed_for_at_least                          938 non-null    object\n",
      " 9   Has_been_employed_for_at_most                           747 non-null    object\n",
      " 10  Telephone                                               404 non-null    object\n",
      " 11  Foreign_worker                                          1000 non-null   int64 \n",
      " 12  Savings_account_balance                                 817 non-null    object\n",
      " 13  Balance_in_existing_bank_account_lower_limit_of_bucket  332 non-null    object\n",
      " 14  Balance_in_existing_bank_account_upper_limit_of_bucket  543 non-null    object\n",
      " 15  loan_application_id                                     1000 non-null   object\n",
      " 16  Months_loan_taken_for                                   1000 non-null   int64 \n",
      " 17  Purpose                                                 988 non-null    object\n",
      " 18  Principal_loan_amount                                   1000 non-null   int64 \n",
      " 19  EMI_rate_in_percentage_of_disposable_income             1000 non-null   int64 \n",
      " 20  Property                                                846 non-null    object\n",
      " 21  Has_coapplicant                                         1000 non-null   int64 \n",
      " 22  Has_guarantor                                           1000 non-null   int64 \n",
      " 23  Other_EMI_plans                                         186 non-null    object\n",
      " 24  Number_of_existing_loans_at_this_bank                   1000 non-null   int64 \n",
      " 25  Loan_history                                            1000 non-null   object\n",
      " 26  high_risk_applicant                                     1000 non-null   int64 \n",
      "dtypes: int64(12), object(15)\n",
      "memory usage: 218.8+ KB\n"
     ]
    }
   ],
   "source": [
    "data.info()"
   ]
  },
  {
   "cell_type": "markdown",
   "metadata": {
    "id": "HT7VzA64gLMD"
   },
   "source": [
    "Would a person with critical credit history be more creditworthy? Are young people more creditworthy? Would a person with more credit accounts be more creditworthy?"
   ]
  },
  {
   "cell_type": "code",
   "execution_count": null,
   "metadata": {
    "colab": {
     "base_uri": "https://localhost:8080/"
    },
    "id": "-bD2lb3I6-_G",
    "outputId": "0a6f2d24-4457-4623-cc38-4bbdba0c3dac"
   },
   "outputs": [
    {
     "data": {
      "text/plain": [
       "Loan_history\n",
       "existing loans paid back duly till now     169\n",
       "critical/pending loans at other banks       50\n",
       "all loans at this bank paid back duly       28\n",
       "delay in paying off loans in the past       28\n",
       "no loans taken/all loans paid back duly     25\n",
       "Name: Loan_history, dtype: int64"
      ]
     },
     "execution_count": 19,
     "metadata": {},
     "output_type": "execute_result"
    }
   ],
   "source": [
    "data[data['high_risk_applicant'] == 1]['Loan_history'].groupby(data['Loan_history']).count().sort_values(ascending=False)"
   ]
  },
  {
   "cell_type": "code",
   "execution_count": null,
   "metadata": {
    "colab": {
     "base_uri": "https://localhost:8080/"
    },
    "id": "PZT3gRtugxmd",
    "outputId": "e60960f7-994c-4d47-d320-92d7827f4eef"
   },
   "outputs": [
    {
     "data": {
      "text/plain": [
       "Loan_history\n",
       "existing loans paid back duly till now     361\n",
       "critical/pending loans at other banks      243\n",
       "delay in paying off loans in the past       60\n",
       "all loans at this bank paid back duly       21\n",
       "no loans taken/all loans paid back duly     15\n",
       "Name: Loan_history, dtype: int64"
      ]
     },
     "execution_count": 20,
     "metadata": {},
     "output_type": "execute_result"
    }
   ],
   "source": [
    "data[data['high_risk_applicant'] == 0]['Loan_history'].groupby(data['Loan_history']).count().sort_values(ascending=False)"
   ]
  },
  {
   "cell_type": "markdown",
   "metadata": {
    "id": "QGdftpF1iPvV"
   },
   "source": [
    "3. Above analysis shows that there is low risk with applicants with critical credit history. Hence can be given more credit."
   ]
  },
  {
   "cell_type": "code",
   "execution_count": null,
   "metadata": {
    "colab": {
     "base_uri": "https://localhost:8080/"
    },
    "id": "FWZ6O5h8hpd3",
    "outputId": "e962e9fe-a427-40b9-ef4a-6ea90ada4e83"
   },
   "outputs": [
    {
     "data": {
      "text/plain": [
       "Primary_applicant_age_in_years\n",
       "19     1\n",
       "20     5\n",
       "21     5\n",
       "22    11\n",
       "23    20\n",
       "24    19\n",
       "25    19\n",
       "26    14\n",
       "27    13\n",
       "28    15\n",
       "29    15\n",
       "30    11\n",
       "31    11\n",
       "32     9\n",
       "33    13\n",
       "34    11\n",
       "35     6\n",
       "36     6\n",
       "37     8\n",
       "38     4\n",
       "39     6\n",
       "40     6\n",
       "41     4\n",
       "42     8\n",
       "43     5\n",
       "44     5\n",
       "45     3\n",
       "46     4\n",
       "47     5\n",
       "48     3\n",
       "49     1\n",
       "50     3\n",
       "51     1\n",
       "52     1\n",
       "53     5\n",
       "54     2\n",
       "55     3\n",
       "57     3\n",
       "58     2\n",
       "59     1\n",
       "60     3\n",
       "61     3\n",
       "63     1\n",
       "65     1\n",
       "66     2\n",
       "68     2\n",
       "74     1\n",
       "Name: Primary_applicant_age_in_years, dtype: int64"
      ]
     },
     "execution_count": 23,
     "metadata": {},
     "output_type": "execute_result"
    }
   ],
   "source": [
    "data[data['high_risk_applicant'] == 1]['Primary_applicant_age_in_years'].groupby(data['Primary_applicant_age_in_years']).count()"
   ]
  },
  {
   "cell_type": "code",
   "execution_count": null,
   "metadata": {
    "colab": {
     "base_uri": "https://localhost:8080/"
    },
    "id": "ANsT3WTdjelR",
    "outputId": "31ded180-fddf-43ee-9c78-ff4d575ef946"
   },
   "outputs": [
    {
     "data": {
      "text/plain": [
       "Primary_applicant_age_in_years\n",
       "19     1\n",
       "20     9\n",
       "21     9\n",
       "22    16\n",
       "23    28\n",
       "24    25\n",
       "25    22\n",
       "26    36\n",
       "27    38\n",
       "28    28\n",
       "29    22\n",
       "30    29\n",
       "31    27\n",
       "32    25\n",
       "33    20\n",
       "34    21\n",
       "35    34\n",
       "36    33\n",
       "37    21\n",
       "38    20\n",
       "39    15\n",
       "40    19\n",
       "41    13\n",
       "42    14\n",
       "43    12\n",
       "44    12\n",
       "45    12\n",
       "46    14\n",
       "47    12\n",
       "48     9\n",
       "49    13\n",
       "50     9\n",
       "51     7\n",
       "52     8\n",
       "53     2\n",
       "54     8\n",
       "55     5\n",
       "56     3\n",
       "57     6\n",
       "58     3\n",
       "59     2\n",
       "60     3\n",
       "61     4\n",
       "62     2\n",
       "63     7\n",
       "64     5\n",
       "65     4\n",
       "66     3\n",
       "67     3\n",
       "68     1\n",
       "70     1\n",
       "74     3\n",
       "75     2\n",
       "Name: Primary_applicant_age_in_years, dtype: int64"
      ]
     },
     "execution_count": 24,
     "metadata": {},
     "output_type": "execute_result"
    }
   ],
   "source": [
    "data[data['high_risk_applicant'] == 0]['Primary_applicant_age_in_years'].groupby(data['Primary_applicant_age_in_years']).count()"
   ]
  },
  {
   "cell_type": "code",
   "execution_count": null,
   "metadata": {
    "colab": {
     "base_uri": "https://localhost:8080/"
    },
    "id": "NcMDRkM6jk5t",
    "outputId": "218c5c7e-4dcf-4580-d386-9b9adbabd7c9"
   },
   "outputs": [
    {
     "data": {
      "text/plain": [
       "Number_of_existing_loans_at_this_bank\n",
       "1    200\n",
       "2     92\n",
       "3      6\n",
       "4      2\n",
       "Name: Number_of_existing_loans_at_this_bank, dtype: int64"
      ]
     },
     "execution_count": 25,
     "metadata": {},
     "output_type": "execute_result"
    }
   ],
   "source": [
    "data[data['high_risk_applicant'] == 1]['Number_of_existing_loans_at_this_bank'].groupby(data['Number_of_existing_loans_at_this_bank']).count().sort_values(ascending=False)"
   ]
  },
  {
   "cell_type": "code",
   "execution_count": null,
   "metadata": {
    "colab": {
     "base_uri": "https://localhost:8080/"
    },
    "id": "ZHAraYHRksW7",
    "outputId": "99f85721-583f-457d-f9e9-2298ff808ab9"
   },
   "outputs": [
    {
     "data": {
      "text/plain": [
       "Number_of_existing_loans_at_this_bank\n",
       "1    433\n",
       "2    241\n",
       "3     22\n",
       "4      4\n",
       "Name: Number_of_existing_loans_at_this_bank, dtype: int64"
      ]
     },
     "execution_count": 26,
     "metadata": {},
     "output_type": "execute_result"
    }
   ],
   "source": [
    "data[data['high_risk_applicant'] == 0]['Number_of_existing_loans_at_this_bank'].groupby(data['Number_of_existing_loans_at_this_bank']).count().sort_values(ascending=False)"
   ]
  },
  {
   "cell_type": "markdown",
   "metadata": {
    "id": "1iHb3qXljxGO"
   },
   "source": [
    "By seeing the analysis, people with more credit accounts are more credit worthy."
   ]
  },
  {
   "cell_type": "markdown",
   "metadata": {
    "id": "YhlStwOdlNDO"
   },
   "source": []
  },
  {
   "cell_type": "code",
   "execution_count": null,
   "metadata": {
    "id": "MZs-wEBklMZ0"
   },
   "outputs": [],
   "source": []
  }
 ],
 "metadata": {
  "colab": {
   "provenance": []
  },
  "kernelspec": {
   "display_name": "Python 3 (ipykernel)",
   "language": "python",
   "name": "python3"
  },
  "language_info": {
   "codemirror_mode": {
    "name": "ipython",
    "version": 3
   },
   "file_extension": ".py",
   "mimetype": "text/x-python",
   "name": "python",
   "nbconvert_exporter": "python",
   "pygments_lexer": "ipython3",
   "version": "3.8.10"
  }
 },
 "nbformat": 4,
 "nbformat_minor": 1
}
